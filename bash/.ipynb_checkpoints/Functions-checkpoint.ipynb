{
 "cells": [
  {
   "cell_type": "code",
   "execution_count": 1,
   "metadata": {},
   "outputs": [
    {
     "name": "stdout",
     "output_type": "stream",
     "text": [
      "bash: testy: command not found\n",
      "bar\n",
      "baz\n"
     ]
    }
   ],
   "source": [
    "#!/bin/bash\n",
    "\n",
    "VALUE=foo\n",
    "testy # command not found\n",
    "\n",
    "function testy {\n",
    "  echo $VALUE\n",
    "}\n",
    "\n",
    "VALUE=bar\n",
    "testy # bar\n",
    "VALUE=baz\n",
    "testy # baz"
   ]
  },
  {
   "cell_type": "code",
   "execution_count": null,
   "metadata": {
    "collapsed": true
   },
   "outputs": [],
   "source": []
  }
 ],
 "metadata": {
  "kernelspec": {
   "display_name": "Bash",
   "language": "bash",
   "name": "bash"
  },
  "language_info": {
   "codemirror_mode": "shell",
   "file_extension": ".sh",
   "mimetype": "text/x-sh",
   "name": "bash"
  }
 },
 "nbformat": 4,
 "nbformat_minor": 2
}
